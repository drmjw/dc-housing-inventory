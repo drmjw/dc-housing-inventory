{
 "cells": [
  {
   "cell_type": "markdown",
   "metadata": {},
   "source": [
    "# DC HOUSING INVENTORY "
   ]
  },
  {
   "cell_type": "markdown",
   "metadata": {},
   "source": [
    "### Technique: Keras Regression"
   ]
  },
  {
   "cell_type": "markdown",
   "metadata": {},
   "source": [
    "### Objective: The DC Residential Properties data set lists 158,957 housing units built between 1754 and 2018. I seek to predict sale price using a regression model that incorporates deep neural networks.   \n",
    "\n",
    "#### Features: \n",
    "\n",
    "* INDEX - Unique identifier for each residential property \n",
    "* BATHRM - Number of Full Bathrooms\n",
    "* HF_BATHRM - Number of Half Bathrooms (no bathtub or shower)\n",
    "* HEAT - Heating System Type\n",
    "* AC - Cooling System \n",
    "* NUM_UNITS - Number of Units\n",
    "* ROOMS - Number of Rooms\n",
    "* BEDRM - Number of Bedrooms\n",
    "* AYB - Year the main portion of the building was built\n",
    "* YR_RMDL - Year the structure was remodeled\n",
    "* EYB - Year an improvement was built \n",
    "* STORIES - Number of stories in primary dwelling\n",
    "* SALEDATE - Date of most recent sale\n",
    "* PRICE - Price at most recent sale\n",
    "* QUALIFIED - Qualified (binary assignment of 'U' or 'Q')\n",
    "* SALE_NUM - Number of times sold\n",
    "* GBA - Gross building area in square feet\n",
    "* BLDG_NUM - Building Number on Property\n",
    "* STYLE - Style type\n",
    "* STRUCTS - Structure type\n",
    "* GRADE - Description of quality \n",
    "* CNDTN - Description of condition\n",
    "* EXTWALL - Extrerior wall type\n",
    "* ROOF - Roof type\n",
    "* INTWALL - Interior wall type\n",
    "* KITCHENS - Number of kitchens\n",
    "* FIREPLACES - Number of fireplaces\n",
    "* USECODE - Property use code\n",
    "* LANDAREA - Land area of property in square feet\n",
    "* GIS_LAST_MOD_DTTM - Last Modified Date\n",
    "* SOURCE - Raw Data Source (Residential or Condo)\n",
    "* CMPLX_NUM - Complex number\n",
    "* LIVING_GBA - Gross building area in square feet\n",
    "* FULLADDRESS - Street Address\n",
    "* CITY - City\n",
    "* STATE - State\n",
    "* ZIPCODE - Zip Code\n",
    "* NATIONALGRID - National grid coordinate spatial address\n",
    "* LATITUDE - Latitude\n",
    "* LONGITUDE - Longitude\n",
    "* ASSESSMENT_NBHD - Neighborhood ID\n",
    "* ASSESSMENT_SUBNBHD - Subneighborhood ID\n",
    "* CENSUS_TRACT - Census tract\n",
    "* CENSUS_BLOCK - Census block\n",
    "* WARD - Ward (8 districts in the city with changing boudaries)\n",
    "* SQUARE - Square (location)\n",
    "* X - Longitude\n",
    "* Y - Latitude\n",
    "* QUADRANT - City quadrant (NE,SE,SW,NW)"
   ]
  },
  {
   "cell_type": "code",
   "execution_count": 127,
   "metadata": {},
   "outputs": [],
   "source": [
    "import pandas as pd\n",
    "import numpy as np\n",
    "import matplotlib.pyplot as plt\n",
    "import warnings\n",
    "warnings.filterwarnings('ignore')\n",
    "import seaborn as sns\n",
    "sns.set_palette(\"husl\")\n",
    "sns.set(style=\"darkgrid\")\n",
    "%matplotlib inline"
   ]
  },
  {
   "cell_type": "code",
   "execution_count": 128,
   "metadata": {},
   "outputs": [],
   "source": [
    "df = pd.read_csv('DC_Properties.csv')"
   ]
  },
  {
   "cell_type": "markdown",
   "metadata": {},
   "source": [
    "## Data Preprocessing"
   ]
  },
  {
   "cell_type": "code",
   "execution_count": 129,
   "metadata": {},
   "outputs": [
    {
     "data": {
      "text/plain": [
       "(158957, 49)"
      ]
     },
     "execution_count": 129,
     "metadata": {},
     "output_type": "execute_result"
    }
   ],
   "source": [
    "df.shape"
   ]
  },
  {
   "cell_type": "markdown",
   "metadata": {},
   "source": [
    "### Missing Values"
   ]
  },
  {
   "cell_type": "markdown",
   "metadata": {},
   "source": [
    "This data set is an inventory of ALL residential properties in Washinton D.C. In order to predict sale price, we need the subset of properties that have been sold. "
   ]
  },
  {
   "cell_type": "code",
   "execution_count": 130,
   "metadata": {},
   "outputs": [],
   "source": [
    "df.dropna(how='any', subset=['PRICE'], inplace=True)"
   ]
  },
  {
   "cell_type": "code",
   "execution_count": 131,
   "metadata": {},
   "outputs": [
    {
     "data": {
      "text/plain": [
       "(98216, 49)"
      ]
     },
     "execution_count": 131,
     "metadata": {},
     "output_type": "execute_result"
    }
   ],
   "source": [
    "df.shape"
   ]
  },
  {
   "cell_type": "markdown",
   "metadata": {},
   "source": [
    "Dropping observations with missing values in the 'PRICE' column leaves us with just over 98,000 records. We want to preserve as many of these as possible. The next step is to examine the profile of missing values in the rest of the data set. "
   ]
  },
  {
   "cell_type": "code",
   "execution_count": 132,
   "metadata": {},
   "outputs": [
    {
     "data": {
      "text/plain": [
       "INDEX                     0\n",
       "BATHRM                    0\n",
       "HF_BATHRM                 0\n",
       "HEAT                      0\n",
       "AC                        0\n",
       "NUM_UNITS             40316\n",
       "ROOMS                     0\n",
       "BEDRM                     0\n",
       "AYB                     112\n",
       "YR_RMDL               40542\n",
       "EYB                       0\n",
       "STORIES               40349\n",
       "SALEDATE                  1\n",
       "PRICE                     0\n",
       "QUALIFIED                 0\n",
       "SALE_NUM                  0\n",
       "GBA                   40316\n",
       "BLDG_NUM                  0\n",
       "STYLE                 40316\n",
       "STRUCT                40316\n",
       "GRADE                 40316\n",
       "CNDTN                 40316\n",
       "EXTWALL               40316\n",
       "ROOF                  40316\n",
       "INTWALL               40316\n",
       "KITCHENS              40317\n",
       "FIREPLACES                0\n",
       "USECODE                   0\n",
       "LANDAREA                  0\n",
       "GIS_LAST_MOD_DTTM         0\n",
       "SOURCE                    0\n",
       "CMPLX_NUM             57900\n",
       "LIVING_GBA            57900\n",
       "FULLADDRESS           40651\n",
       "CITY                  40647\n",
       "STATE                 40647\n",
       "ZIPCODE                   0\n",
       "NATIONALGRID          40647\n",
       "LATITUDE                  0\n",
       "LONGITUDE                 0\n",
       "ASSESSMENT_NBHD           0\n",
       "ASSESSMENT_SUBNBHD    20255\n",
       "CENSUS_TRACT              0\n",
       "CENSUS_BLOCK          40647\n",
       "WARD                      0\n",
       "SQUARE                    0\n",
       "X                       101\n",
       "Y                       101\n",
       "QUADRANT                101\n",
       "dtype: int64"
      ]
     },
     "execution_count": 132,
     "metadata": {},
     "output_type": "execute_result"
    }
   ],
   "source": [
    "df.isnull().sum()"
   ]
  },
  {
   "cell_type": "code",
   "execution_count": 133,
   "metadata": {},
   "outputs": [],
   "source": [
    "df = df.drop('BLDG_NUM',axis=1)\n",
    "df = df.drop('INDEX',axis=1)\n",
    "df = df.drop('GIS_LAST_MOD_DTTM',axis=1)\n",
    "df = df.drop('CMPLX_NUM',axis=1)\n",
    "df = df.drop('LIVING_GBA',axis=1)\n",
    "df = df.drop('FULLADDRESS',axis=1)\n",
    "df = df.drop('CITY',axis=1)\n",
    "df = df.drop('STATE',axis=1)\n",
    "df = df.drop('NATIONALGRID',axis=1)\n",
    "df = df.drop('ASSESSMENT_SUBNBHD',axis=1)\n",
    "df = df.drop('CENSUS_TRACT',axis=1)\n",
    "df = df.drop('CENSUS_BLOCK',axis=1)\n",
    "df = df.drop('SQUARE',axis=1)\n",
    "df = df.drop('Y',axis=1)\n",
    "df = df.drop('X',axis=1)"
   ]
  },
  {
   "cell_type": "code",
   "execution_count": 134,
   "metadata": {},
   "outputs": [
    {
     "data": {
      "text/plain": [
       "BATHRM                 0\n",
       "HF_BATHRM              0\n",
       "HEAT                   0\n",
       "AC                     0\n",
       "NUM_UNITS          40316\n",
       "ROOMS                  0\n",
       "BEDRM                  0\n",
       "AYB                  112\n",
       "YR_RMDL            40542\n",
       "EYB                    0\n",
       "STORIES            40349\n",
       "SALEDATE               1\n",
       "PRICE                  0\n",
       "QUALIFIED              0\n",
       "SALE_NUM               0\n",
       "GBA                40316\n",
       "STYLE              40316\n",
       "STRUCT             40316\n",
       "GRADE              40316\n",
       "CNDTN              40316\n",
       "EXTWALL            40316\n",
       "ROOF               40316\n",
       "INTWALL            40316\n",
       "KITCHENS           40317\n",
       "FIREPLACES             0\n",
       "USECODE                0\n",
       "LANDAREA               0\n",
       "SOURCE                 0\n",
       "ZIPCODE                0\n",
       "LATITUDE               0\n",
       "LONGITUDE              0\n",
       "ASSESSMENT_NBHD        0\n",
       "WARD                   0\n",
       "QUADRANT             101\n",
       "dtype: int64"
      ]
     },
     "execution_count": 134,
     "metadata": {},
     "output_type": "execute_result"
    }
   ],
   "source": [
    "df.isnull().sum()"
   ]
  },
  {
   "cell_type": "markdown",
   "metadata": {},
   "source": [
    "## Additional Features"
   ]
  },
  {
   "cell_type": "markdown",
   "metadata": {},
   "source": [
    "* NUM_UNITS\n",
    "* STORIES\n",
    "* GBA\n",
    "* STYLE\n",
    "* STRUCT\n",
    "* GRADE\n",
    "* CNDTN\n",
    "* EXTWALL\n",
    "* ROOF\n",
    "* INTWALL\n",
    "* KITCHENS"
   ]
  },
  {
   "cell_type": "code",
   "execution_count": 135,
   "metadata": {},
   "outputs": [
    {
     "data": {
      "text/plain": [
       "1.0    49339\n",
       "2.0     6050\n",
       "4.0     1862\n",
       "3.0      590\n",
       "0.0       51\n",
       "5.0        5\n",
       "6.0        3\n",
       "Name: NUM_UNITS, dtype: int64"
      ]
     },
     "execution_count": 135,
     "metadata": {},
     "output_type": "execute_result"
    }
   ],
   "source": [
    "df['NUM_UNITS'].value_counts()"
   ]
  },
  {
   "cell_type": "code",
   "execution_count": 136,
   "metadata": {},
   "outputs": [],
   "source": [
    "units_dummies = pd.get_dummies(df['NUM_UNITS'],drop_first=True)"
   ]
  },
  {
   "cell_type": "code",
   "execution_count": 137,
   "metadata": {},
   "outputs": [],
   "source": [
    "df = pd.concat([df.drop('NUM_UNITS',axis=1),units_dummies],axis=1)"
   ]
  },
  {
   "cell_type": "code",
   "execution_count": 138,
   "metadata": {},
   "outputs": [
    {
     "data": {
      "text/plain": [
       "2.0      46064\n",
       "3.0       9109\n",
       "1.0       2330\n",
       "4.0        311\n",
       "9.0         15\n",
       "0.0         13\n",
       "5.0          9\n",
       "6.0          5\n",
       "25.0         4\n",
       "275.0        2\n",
       "7.0          1\n",
       "250.0        1\n",
       "826.0        1\n",
       "20.0         1\n",
       "8.0          1\n",
       "Name: STORIES, dtype: int64"
      ]
     },
     "execution_count": 138,
     "metadata": {},
     "output_type": "execute_result"
    }
   ],
   "source": [
    "df['STORIES'].value_counts()"
   ]
  },
  {
   "cell_type": "code",
   "execution_count": 139,
   "metadata": {},
   "outputs": [],
   "source": [
    "stories = {'STORIES': {25.0: 0, 275.0: 0, 250.0: 0, 826.0: 0, 20.0:0}}"
   ]
  },
  {
   "cell_type": "code",
   "execution_count": 140,
   "metadata": {},
   "outputs": [],
   "source": [
    "df.replace(stories, inplace=True)"
   ]
  },
  {
   "cell_type": "code",
   "execution_count": 141,
   "metadata": {},
   "outputs": [],
   "source": [
    "df = df[df.STORIES != '0']"
   ]
  },
  {
   "cell_type": "code",
   "execution_count": 142,
   "metadata": {},
   "outputs": [
    {
     "data": {
      "text/plain": [
       "2.0    46064\n",
       "3.0     9109\n",
       "1.0     2330\n",
       "4.0      311\n",
       "0.0       22\n",
       "9.0       15\n",
       "5.0        9\n",
       "6.0        5\n",
       "7.0        1\n",
       "8.0        1\n",
       "Name: STORIES, dtype: int64"
      ]
     },
     "execution_count": 142,
     "metadata": {},
     "output_type": "execute_result"
    }
   ],
   "source": [
    "df['STORIES'].value_counts()"
   ]
  },
  {
   "cell_type": "code",
   "execution_count": 143,
   "metadata": {},
   "outputs": [],
   "source": [
    "stories_dummies = pd.get_dummies(df['STORIES'],drop_first=True)"
   ]
  },
  {
   "cell_type": "code",
   "execution_count": 144,
   "metadata": {},
   "outputs": [],
   "source": [
    "df = pd.concat([df.drop('STORIES',axis=1),stories_dummies],axis=1)"
   ]
  },
  {
   "cell_type": "markdown",
   "metadata": {},
   "source": [
    "# drop GBA for now "
   ]
  },
  {
   "cell_type": "code",
   "execution_count": 145,
   "metadata": {},
   "outputs": [
    {
     "data": {
      "text/plain": [
       "1152.0    817\n",
       "1088.0    749\n",
       "1024.0    671\n",
       "832.0     660\n",
       "1280.0    537\n",
       "         ... \n",
       "3745.0      1\n",
       "5260        1\n",
       "3536        1\n",
       "3755.0      1\n",
       "2527        1\n",
       "Name: GBA, Length: 6153, dtype: int64"
      ]
     },
     "execution_count": 145,
     "metadata": {},
     "output_type": "execute_result"
    }
   ],
   "source": [
    "df['GBA'].value_counts()"
   ]
  },
  {
   "cell_type": "code",
   "execution_count": 147,
   "metadata": {},
   "outputs": [],
   "source": [
    "df = df.drop('GBA',axis=1)"
   ]
  },
  {
   "cell_type": "code",
   "execution_count": 148,
   "metadata": {},
   "outputs": [
    {
     "data": {
      "text/plain": [
       "2 Story            44150\n",
       "3 Story             5596\n",
       "2.5 Story Fin       3920\n",
       "1 Story             2000\n",
       "1.5 Story Fin       1158\n",
       "2.5 Story Unfin      380\n",
       "4 Story              231\n",
       "Split Level          158\n",
       "Split Foyer          123\n",
       "3.5 Story Fin         84\n",
       "1.5 Story Unfin       54\n",
       "Default               23\n",
       "Bi-Level               8\n",
       "3.5 Story Unfin        5\n",
       "4.5 Story Fin          5\n",
       "4.5 Story Unfin        2\n",
       "Vacant                 2\n",
       "Outbuildings           1\n",
       "Name: STYLE, dtype: int64"
      ]
     },
     "execution_count": 148,
     "metadata": {},
     "output_type": "execute_result"
    }
   ],
   "source": [
    "df['STYLE'].value_counts()"
   ]
  },
  {
   "cell_type": "code",
   "execution_count": 149,
   "metadata": {},
   "outputs": [],
   "source": [
    "style_dummies = pd.get_dummies(df['STYLE'],drop_first=True)"
   ]
  },
  {
   "cell_type": "code",
   "execution_count": 150,
   "metadata": {},
   "outputs": [],
   "source": [
    "df = pd.concat([df.drop('STYLE',axis=1),style_dummies],axis=1)"
   ]
  },
  {
   "cell_type": "code",
   "execution_count": 151,
   "metadata": {},
   "outputs": [
    {
     "data": {
      "text/plain": [
       "Row Inside       23425\n",
       "Single           16248\n",
       "Semi-Detached     8209\n",
       "Row End           6906\n",
       "Multi             2843\n",
       "Town Inside        185\n",
       "Town End            77\n",
       "Default              7\n",
       "Name: STRUCT, dtype: int64"
      ]
     },
     "execution_count": 151,
     "metadata": {},
     "output_type": "execute_result"
    }
   ],
   "source": [
    "df['STRUCT'].value_counts()"
   ]
  },
  {
   "cell_type": "code",
   "execution_count": 152,
   "metadata": {},
   "outputs": [],
   "source": [
    "struct_dummies = pd.get_dummies(df['STRUCT'],drop_first=True)"
   ]
  },
  {
   "cell_type": "code",
   "execution_count": 153,
   "metadata": {},
   "outputs": [],
   "source": [
    "df = pd.concat([df.drop('STRUCT',axis=1),struct_dummies],axis=1)"
   ]
  },
  {
   "cell_type": "code",
   "execution_count": 154,
   "metadata": {},
   "outputs": [
    {
     "data": {
      "text/plain": [
       "Average          19664\n",
       "Above Average    17321\n",
       "Good Quality     11752\n",
       "Very Good         5008\n",
       "Excellent         1825\n",
       "Superior          1523\n",
       "Exceptional-A      473\n",
       "Exceptional-B      168\n",
       "Fair Quality        83\n",
       "Exceptional-C       44\n",
       "Exceptional-D       32\n",
       "Low Quality          4\n",
       "No Data              3\n",
       "Name: GRADE, dtype: int64"
      ]
     },
     "execution_count": 154,
     "metadata": {},
     "output_type": "execute_result"
    }
   ],
   "source": [
    "df['GRADE'].value_counts()"
   ]
  },
  {
   "cell_type": "code",
   "execution_count": 155,
   "metadata": {},
   "outputs": [],
   "source": [
    "grade_dummies = pd.get_dummies(df['GRADE'],drop_first=True)"
   ]
  },
  {
   "cell_type": "code",
   "execution_count": 156,
   "metadata": {},
   "outputs": [],
   "source": [
    "df = pd.concat([df.drop('GRADE',axis=1),grade_dummies],axis=1)"
   ]
  },
  {
   "cell_type": "code",
   "execution_count": 157,
   "metadata": {},
   "outputs": [
    {
     "data": {
      "text/plain": [
       "Good         25711\n",
       "Average      24013\n",
       "Very Good     6681\n",
       "Excellent      889\n",
       "Fair           509\n",
       "Poor            93\n",
       "Default          4\n",
       "Name: CNDTN, dtype: int64"
      ]
     },
     "execution_count": 157,
     "metadata": {},
     "output_type": "execute_result"
    }
   ],
   "source": [
    "df['CNDTN'].value_counts()"
   ]
  },
  {
   "cell_type": "code",
   "execution_count": 158,
   "metadata": {},
   "outputs": [],
   "source": [
    "condition_dummies = pd.get_dummies(df['CNDTN'],drop_first=True)"
   ]
  },
  {
   "cell_type": "code",
   "execution_count": 159,
   "metadata": {},
   "outputs": [],
   "source": [
    "df = pd.concat([df.drop('CNDTN',axis=1),condition_dummies],axis=1)"
   ]
  },
  {
   "cell_type": "code",
   "execution_count": 160,
   "metadata": {},
   "outputs": [
    {
     "data": {
      "text/plain": [
       "Common Brick      43369\n",
       "Brick/Siding       3526\n",
       "Vinyl Siding       3169\n",
       "Wood Siding        2273\n",
       "Stucco             1652\n",
       "Brick Veneer        593\n",
       "Shingle             533\n",
       "Aluminum            461\n",
       "Face Brick          420\n",
       "Brick/Stucco        401\n",
       "Brick/Stone         386\n",
       "Stone               371\n",
       "Stone/Siding        214\n",
       "Stone/Stucco        156\n",
       "Stone Veneer        148\n",
       "Hardboard            79\n",
       "Concrete             40\n",
       "Concrete Block       35\n",
       "Stucco Block         28\n",
       "Metal Siding         28\n",
       "Default              12\n",
       "Plywood               4\n",
       "Adobe                 1\n",
       "SPlaster              1\n",
       "Name: EXTWALL, dtype: int64"
      ]
     },
     "execution_count": 160,
     "metadata": {},
     "output_type": "execute_result"
    }
   ],
   "source": [
    "df['EXTWALL'].value_counts()"
   ]
  },
  {
   "cell_type": "code",
   "execution_count": 161,
   "metadata": {},
   "outputs": [],
   "source": [
    "extwall_dummies = pd.get_dummies(df['EXTWALL'],drop_first=True)"
   ]
  },
  {
   "cell_type": "code",
   "execution_count": 162,
   "metadata": {},
   "outputs": [],
   "source": [
    "df = pd.concat([df.drop('EXTWALL',axis=1),extwall_dummies],axis=1)"
   ]
  },
  {
   "cell_type": "code",
   "execution_count": 163,
   "metadata": {},
   "outputs": [
    {
     "data": {
      "text/plain": [
       "Built Up          17633\n",
       "Metal- Sms        16338\n",
       "Comp Shingle      16170\n",
       "Slate              5583\n",
       "Neopren             903\n",
       "Shake               383\n",
       "Clay Tile           309\n",
       "Shingle             248\n",
       "Metal- Pre          139\n",
       "Typical              91\n",
       "Composition Ro       63\n",
       "Metal- Cpr           20\n",
       "Concrete Tile        11\n",
       "Wood- FS              4\n",
       "Water Proof           4\n",
       "Concrete              1\n",
       "Name: ROOF, dtype: int64"
      ]
     },
     "execution_count": 163,
     "metadata": {},
     "output_type": "execute_result"
    }
   ],
   "source": [
    "df['ROOF'].value_counts()"
   ]
  },
  {
   "cell_type": "code",
   "execution_count": 164,
   "metadata": {},
   "outputs": [],
   "source": [
    "roof_dummies = pd.get_dummies(df['ROOF'],drop_first=True)"
   ]
  },
  {
   "cell_type": "code",
   "execution_count": 165,
   "metadata": {},
   "outputs": [],
   "source": [
    "df = pd.concat([df.drop('ROOF',axis=1),roof_dummies],axis=1)"
   ]
  },
  {
   "cell_type": "code",
   "execution_count": 166,
   "metadata": {},
   "outputs": [
    {
     "data": {
      "text/plain": [
       "Hardwood         44180\n",
       "Hardwood/Carp     7511\n",
       "Wood Floor        4014\n",
       "Carpet            2014\n",
       "Lt Concrete         50\n",
       "Default             41\n",
       "Ceramic Tile        39\n",
       "Vinyl Comp          21\n",
       "Parquet             11\n",
       "Resiliant            8\n",
       "Vinyl Sheet          8\n",
       "Terrazo              3\n",
       "Name: INTWALL, dtype: int64"
      ]
     },
     "execution_count": 166,
     "metadata": {},
     "output_type": "execute_result"
    }
   ],
   "source": [
    "df['INTWALL'].value_counts()"
   ]
  },
  {
   "cell_type": "code",
   "execution_count": 167,
   "metadata": {},
   "outputs": [],
   "source": [
    "intwall_dummies = pd.get_dummies(df['INTWALL'],drop_first=True)"
   ]
  },
  {
   "cell_type": "code",
   "execution_count": 168,
   "metadata": {},
   "outputs": [],
   "source": [
    "df = pd.concat([df.drop('INTWALL',axis=1),intwall_dummies],axis=1)"
   ]
  },
  {
   "cell_type": "code",
   "execution_count": 169,
   "metadata": {},
   "outputs": [
    {
     "data": {
      "text/plain": [
       "1.0     47704\n",
       "2.0      7656\n",
       "4.0      1859\n",
       "3.0       627\n",
       "0.0        43\n",
       "5.0         5\n",
       "6.0         4\n",
       "44.0        1\n",
       "Name: KITCHENS, dtype: int64"
      ]
     },
     "execution_count": 169,
     "metadata": {},
     "output_type": "execute_result"
    }
   ],
   "source": [
    "df['KITCHENS'].value_counts()"
   ]
  },
  {
   "cell_type": "code",
   "execution_count": 170,
   "metadata": {},
   "outputs": [],
   "source": [
    "kitch = {'KITCHENS': {44.0: 0}}"
   ]
  },
  {
   "cell_type": "code",
   "execution_count": 171,
   "metadata": {},
   "outputs": [],
   "source": [
    "df.replace(kitch, inplace=True)"
   ]
  },
  {
   "cell_type": "code",
   "execution_count": 172,
   "metadata": {},
   "outputs": [],
   "source": [
    "kitch_dummies = pd.get_dummies(df['KITCHENS'],drop_first=True)"
   ]
  },
  {
   "cell_type": "code",
   "execution_count": 173,
   "metadata": {},
   "outputs": [],
   "source": [
    "df = pd.concat([df.drop('KITCHENS',axis=1),kitch_dummies],axis=1)"
   ]
  },
  {
   "cell_type": "code",
   "execution_count": 174,
   "metadata": {},
   "outputs": [
    {
     "name": "stdout",
     "output_type": "stream",
     "text": [
      "<class 'pandas.core.frame.DataFrame'>\n",
      "Int64Index: 98216 entries, 0 to 98215\n",
      "Columns: 135 entries, BATHRM to 6.0\n",
      "dtypes: float64(6), int64(9), object(8), uint8(112)\n",
      "memory usage: 28.5+ MB\n"
     ]
    }
   ],
   "source": [
    "df.info()"
   ]
  },
  {
   "cell_type": "markdown",
   "metadata": {},
   "source": [
    "# This is not working"
   ]
  },
  {
   "cell_type": "code",
   "execution_count": 182,
   "metadata": {},
   "outputs": [],
   "source": [
    "df['YR_RMDL'].fillna(0, inplace=True)"
   ]
  },
  {
   "cell_type": "code",
   "execution_count": 183,
   "metadata": {},
   "outputs": [],
   "source": [
    "df['YR_RMDL'].loc[(df['YR_RMDL'] > 0)] = 1"
   ]
  },
  {
   "cell_type": "code",
   "execution_count": 184,
   "metadata": {},
   "outputs": [
    {
     "data": {
      "text/plain": [
       "2006.0    4102\n",
       "2005.0    3927\n",
       "2004.0    3141\n",
       "2007.0    2960\n",
       "2003.0    2399\n",
       "          ... \n",
       "1923.0       1\n",
       "1928.0       1\n",
       "1932.0       1\n",
       "1943.0       1\n",
       "20.0         1\n",
       "Name: YR_RMDL, Length: 101, dtype: int64"
      ]
     },
     "execution_count": 184,
     "metadata": {},
     "output_type": "execute_result"
    }
   ],
   "source": [
    "df['YR_RMDL'].value_counts()"
   ]
  },
  {
   "cell_type": "code",
   "execution_count": 185,
   "metadata": {},
   "outputs": [],
   "source": [
    "#drop for now\n",
    "df = df.drop('YR_RMDL',axis=1)"
   ]
  },
  {
   "cell_type": "code",
   "execution_count": 186,
   "metadata": {},
   "outputs": [],
   "source": [
    "df.dropna(how='any', subset=['AYB'], inplace=True)"
   ]
  },
  {
   "cell_type": "code",
   "execution_count": 187,
   "metadata": {},
   "outputs": [],
   "source": [
    "df.dropna(how='any', subset=['QUADRANT'], inplace=True)"
   ]
  },
  {
   "cell_type": "code",
   "execution_count": 188,
   "metadata": {},
   "outputs": [],
   "source": [
    "df.dropna(how='any', subset=['SALEDATE'], inplace=True)"
   ]
  },
  {
   "cell_type": "code",
   "execution_count": 189,
   "metadata": {},
   "outputs": [
    {
     "name": "stdout",
     "output_type": "stream",
     "text": [
      "<class 'pandas.core.frame.DataFrame'>\n",
      "Int64Index: 98002 entries, 0 to 98215\n",
      "Columns: 134 entries, BATHRM to 6.0\n",
      "dtypes: float64(5), int64(9), object(8), uint8(112)\n",
      "memory usage: 27.7+ MB\n"
     ]
    }
   ],
   "source": [
    "df.info()"
   ]
  },
  {
   "cell_type": "markdown",
   "metadata": {},
   "source": [
    "### Encode Other Categorical Variables"
   ]
  },
  {
   "cell_type": "code",
   "execution_count": 190,
   "metadata": {},
   "outputs": [],
   "source": [
    "df['HEAT'] = df['HEAT'].astype('category')\n",
    "df['AC'] = df['AC'].astype('category') \n",
    "df['QUALIFIED'] = df['QUALIFIED'].astype('category')\n",
    "df['SOURCE'] = df['SOURCE'].astype('category')  \n",
    "df['ASSESSMENT_NBHD'] = df['ASSESSMENT_NBHD'].astype('category')\n",
    "df['WARD'] = df['WARD'].astype('category')  \n",
    "df['QUADRANT'] = df['QUADRANT'].astype('category')"
   ]
  },
  {
   "cell_type": "code",
   "execution_count": 191,
   "metadata": {},
   "outputs": [
    {
     "data": {
      "text/plain": [
       "Forced Air        39332\n",
       "Hot Water Rad     22778\n",
       "Warm Cool         17315\n",
       "Ht Pump           16845\n",
       "Wall Furnace        706\n",
       "Water Base Brd      272\n",
       "Elec Base Brd       249\n",
       "No Data             209\n",
       "Electric Rad         93\n",
       "Air-Oil              69\n",
       "Gravity Furnac       51\n",
       "Ind Unit             35\n",
       "Evp Cool             26\n",
       "Air Exchng           22\n",
       "Name: HEAT, dtype: int64"
      ]
     },
     "execution_count": 191,
     "metadata": {},
     "output_type": "execute_result"
    }
   ],
   "source": [
    "df['HEAT'].value_counts()"
   ]
  },
  {
   "cell_type": "code",
   "execution_count": 192,
   "metadata": {},
   "outputs": [],
   "source": [
    "heat_dummies = pd.get_dummies(df['HEAT'],drop_first=True)"
   ]
  },
  {
   "cell_type": "code",
   "execution_count": 193,
   "metadata": {},
   "outputs": [],
   "source": [
    "df = pd.concat([df.drop('HEAT',axis=1),heat_dummies],axis=1)"
   ]
  },
  {
   "cell_type": "code",
   "execution_count": 194,
   "metadata": {},
   "outputs": [
    {
     "data": {
      "text/plain": [
       "Y    79548\n",
       "N    18417\n",
       "0       37\n",
       "Name: AC, dtype: int64"
      ]
     },
     "execution_count": 194,
     "metadata": {},
     "output_type": "execute_result"
    }
   ],
   "source": [
    "df['AC'].value_counts()"
   ]
  },
  {
   "cell_type": "code",
   "execution_count": 195,
   "metadata": {},
   "outputs": [],
   "source": [
    "df = df[df.AC != '0']"
   ]
  },
  {
   "cell_type": "code",
   "execution_count": 196,
   "metadata": {},
   "outputs": [],
   "source": [
    "AC_type = {'AC': {'N': 0, 'Y': 1}}"
   ]
  },
  {
   "cell_type": "code",
   "execution_count": 197,
   "metadata": {},
   "outputs": [],
   "source": [
    "df.replace(AC_type, inplace=True)"
   ]
  },
  {
   "cell_type": "code",
   "execution_count": 198,
   "metadata": {},
   "outputs": [
    {
     "data": {
      "text/plain": [
       "1    79548\n",
       "0    18417\n",
       "Name: AC, dtype: int64"
      ]
     },
     "execution_count": 198,
     "metadata": {},
     "output_type": "execute_result"
    }
   ],
   "source": [
    "df['AC'].value_counts()"
   ]
  },
  {
   "cell_type": "code",
   "execution_count": 199,
   "metadata": {},
   "outputs": [
    {
     "data": {
      "text/plain": [
       "Q    76056\n",
       "U    21909\n",
       "Name: QUALIFIED, dtype: int64"
      ]
     },
     "execution_count": 199,
     "metadata": {},
     "output_type": "execute_result"
    }
   ],
   "source": [
    "df['QUALIFIED'].value_counts()"
   ]
  },
  {
   "cell_type": "code",
   "execution_count": 200,
   "metadata": {},
   "outputs": [],
   "source": [
    "from sklearn.preprocessing import LabelEncoder \n",
    "  \n",
    "le = LabelEncoder() "
   ]
  },
  {
   "cell_type": "code",
   "execution_count": 201,
   "metadata": {},
   "outputs": [],
   "source": [
    "df['QUALIFIED']= le.fit_transform(df['QUALIFIED']) "
   ]
  },
  {
   "cell_type": "code",
   "execution_count": 202,
   "metadata": {},
   "outputs": [
    {
     "data": {
      "text/plain": [
       "0    76056\n",
       "1    21909\n",
       "Name: QUALIFIED, dtype: int64"
      ]
     },
     "execution_count": 202,
     "metadata": {},
     "output_type": "execute_result"
    }
   ],
   "source": [
    "df['QUALIFIED'].value_counts()"
   ]
  },
  {
   "cell_type": "code",
   "execution_count": 203,
   "metadata": {},
   "outputs": [
    {
     "data": {
      "text/plain": [
       "Residential    57687\n",
       "Condominium    40278\n",
       "Name: SOURCE, dtype: int64"
      ]
     },
     "execution_count": 203,
     "metadata": {},
     "output_type": "execute_result"
    }
   ],
   "source": [
    "df['SOURCE'].value_counts() "
   ]
  },
  {
   "cell_type": "code",
   "execution_count": 204,
   "metadata": {},
   "outputs": [],
   "source": [
    "source_dummies = pd.get_dummies(df['SOURCE'],drop_first=True)"
   ]
  },
  {
   "cell_type": "code",
   "execution_count": 205,
   "metadata": {},
   "outputs": [],
   "source": [
    "df = pd.concat([df.drop('SOURCE',axis=1),source_dummies],axis=1)"
   ]
  },
  {
   "cell_type": "code",
   "execution_count": 206,
   "metadata": {},
   "outputs": [
    {
     "data": {
      "text/plain": [
       "Old City 2                      11685\n",
       "Old City 1                      10052\n",
       "Columbia Heights                 6767\n",
       "Petworth                         3566\n",
       "Brookland                        3354\n",
       "Deanwood                         3300\n",
       "Chevy Chase                      3058\n",
       "Mt. Pleasant                     2704\n",
       "Congress Heights                 2580\n",
       "Georgetown                       2322\n",
       "Capitol Hill                     2294\n",
       "Central-tri 1                    2180\n",
       "Central-tri 3                    2144\n",
       "Kalorama                         2144\n",
       "Brightwood                       2133\n",
       "Southwest Waterfront             2057\n",
       "Randle Heights                   2016\n",
       "Cleveland Park                   1950\n",
       "Trinidad                         1915\n",
       "Fort Dupont Park                 1746\n",
       "Hillcrest                        1730\n",
       "Eckington                        1559\n",
       "American University              1436\n",
       "Forest Hills                     1421\n",
       "Woodridge                        1343\n",
       "Wesley Heights                   1268\n",
       "16th Street Heights              1250\n",
       "Glover Park                      1219\n",
       "Ledroit Park                     1197\n",
       "Riggs Park                       1195\n",
       "Marshall Heights                 1158\n",
       "Anacostia                        1122\n",
       "Observatory Circle                939\n",
       "Foggy Bottom                      920\n",
       "Fort Lincoln                      827\n",
       "Lily Ponds                        799\n",
       "Garfield                          772\n",
       "Palisades                         696\n",
       "Brentwood                         590\n",
       "Barry Farms                       558\n",
       "Spring Valley                     548\n",
       "Wakefield                         518\n",
       "Chillum                           505\n",
       "Kent                              491\n",
       "North Cleveland Park              474\n",
       "Berkley                           474\n",
       "Burleith                          456\n",
       "Shepherd Heights                  455\n",
       "Takoma Park                       438\n",
       "Michigan Park                     407\n",
       "Crestwood                         394\n",
       "Colonial Village                  246\n",
       "Foxhall                           219\n",
       "Hawthorne                         140\n",
       "Woodley                           122\n",
       "Massachusetts Avenue Heights      112\n",
       "Name: ASSESSMENT_NBHD, dtype: int64"
      ]
     },
     "execution_count": 206,
     "metadata": {},
     "output_type": "execute_result"
    }
   ],
   "source": [
    "df['ASSESSMENT_NBHD'].value_counts()"
   ]
  },
  {
   "cell_type": "code",
   "execution_count": 207,
   "metadata": {},
   "outputs": [
    {
     "data": {
      "text/plain": [
       "Old City 2                      11685\n",
       "Old City 1                      10052\n",
       "Columbia Heights                 6767\n",
       "Petworth                         3566\n",
       "Brookland                        3354\n",
       "Deanwood                         3300\n",
       "Chevy Chase                      3058\n",
       "Mt. Pleasant                     2704\n",
       "Congress Heights                 2580\n",
       "Georgetown                       2322\n",
       "Capitol Hill                     2294\n",
       "Central-tri 1                    2180\n",
       "Central-tri 3                    2144\n",
       "Kalorama                         2144\n",
       "Brightwood                       2133\n",
       "Southwest Waterfront             2057\n",
       "Randle Heights                   2016\n",
       "Cleveland Park                   1950\n",
       "Trinidad                         1915\n",
       "Fort Dupont Park                 1746\n",
       "Hillcrest                        1730\n",
       "Eckington                        1559\n",
       "American University              1436\n",
       "Forest Hills                     1421\n",
       "Woodridge                        1343\n",
       "Wesley Heights                   1268\n",
       "16th Street Heights              1250\n",
       "Glover Park                      1219\n",
       "Ledroit Park                     1197\n",
       "Riggs Park                       1195\n",
       "Marshall Heights                 1158\n",
       "Anacostia                        1122\n",
       "Observatory Circle                939\n",
       "Foggy Bottom                      920\n",
       "Fort Lincoln                      827\n",
       "Lily Ponds                        799\n",
       "Garfield                          772\n",
       "Palisades                         696\n",
       "Brentwood                         590\n",
       "Barry Farms                       558\n",
       "Spring Valley                     548\n",
       "Wakefield                         518\n",
       "Chillum                           505\n",
       "Kent                              491\n",
       "North Cleveland Park              474\n",
       "Berkley                           474\n",
       "Burleith                          456\n",
       "Shepherd Heights                  455\n",
       "Takoma Park                       438\n",
       "Michigan Park                     407\n",
       "Crestwood                         394\n",
       "Colonial Village                  246\n",
       "Foxhall                           219\n",
       "Hawthorne                         140\n",
       "Woodley                           122\n",
       "Massachusetts Avenue Heights      112\n",
       "Name: ASSESSMENT_NBHD, dtype: int64"
      ]
     },
     "execution_count": 207,
     "metadata": {},
     "output_type": "execute_result"
    }
   ],
   "source": [
    "df['ASSESSMENT_NBHD'].value_counts()"
   ]
  },
  {
   "cell_type": "code",
   "execution_count": 208,
   "metadata": {},
   "outputs": [],
   "source": [
    "nbhd_dummies = pd.get_dummies(df['ASSESSMENT_NBHD'],drop_first=True)"
   ]
  },
  {
   "cell_type": "code",
   "execution_count": 209,
   "metadata": {},
   "outputs": [],
   "source": [
    "df = pd.concat([df.drop('ASSESSMENT_NBHD',axis=1),nbhd_dummies],axis=1)"
   ]
  },
  {
   "cell_type": "code",
   "execution_count": 210,
   "metadata": {},
   "outputs": [
    {
     "data": {
      "text/plain": [
       "Ward 6    16239\n",
       "Ward 2    15531\n",
       "Ward 3    14333\n",
       "Ward 1    12460\n",
       "Ward 5    12017\n",
       "Ward 4    11924\n",
       "Ward 7     9200\n",
       "Ward 8     6261\n",
       "Name: WARD, dtype: int64"
      ]
     },
     "execution_count": 210,
     "metadata": {},
     "output_type": "execute_result"
    }
   ],
   "source": [
    "df['WARD'].value_counts()"
   ]
  },
  {
   "cell_type": "code",
   "execution_count": 211,
   "metadata": {},
   "outputs": [],
   "source": [
    "ward_dummies = pd.get_dummies(df['WARD'],drop_first=True)"
   ]
  },
  {
   "cell_type": "code",
   "execution_count": 212,
   "metadata": {},
   "outputs": [],
   "source": [
    "df = pd.concat([df.drop('WARD',axis=1),ward_dummies],axis=1)"
   ]
  },
  {
   "cell_type": "code",
   "execution_count": 213,
   "metadata": {},
   "outputs": [
    {
     "data": {
      "text/plain": [
       "NW    57658\n",
       "NE    21724\n",
       "SE    15835\n",
       "SW     2748\n",
       "Name: QUADRANT, dtype: int64"
      ]
     },
     "execution_count": 213,
     "metadata": {},
     "output_type": "execute_result"
    }
   ],
   "source": [
    "df['QUADRANT'].value_counts()"
   ]
  },
  {
   "cell_type": "code",
   "execution_count": 214,
   "metadata": {},
   "outputs": [],
   "source": [
    "quad_dummies = pd.get_dummies(df['QUADRANT'],drop_first=True)"
   ]
  },
  {
   "cell_type": "code",
   "execution_count": 215,
   "metadata": {},
   "outputs": [],
   "source": [
    "df = pd.concat([df.drop('QUADRANT',axis=1),quad_dummies],axis=1)"
   ]
  },
  {
   "cell_type": "code",
   "execution_count": 216,
   "metadata": {},
   "outputs": [],
   "source": [
    "df['SALEDATE'] = pd.to_datetime(df['SALEDATE'])"
   ]
  },
  {
   "cell_type": "code",
   "execution_count": 217,
   "metadata": {},
   "outputs": [],
   "source": [
    "df['MONTH'] = df['SALEDATE'].apply(lambda date:date.month)"
   ]
  },
  {
   "cell_type": "code",
   "execution_count": 218,
   "metadata": {},
   "outputs": [],
   "source": [
    "df['YEAR'] = df['SALEDATE'].apply(lambda date:date.year)"
   ]
  },
  {
   "cell_type": "code",
   "execution_count": 219,
   "metadata": {},
   "outputs": [],
   "source": [
    "df = df.drop('SALEDATE',axis=1)"
   ]
  },
  {
   "cell_type": "code",
   "execution_count": 220,
   "metadata": {},
   "outputs": [
    {
     "data": {
      "text/plain": [
       "20002.0    10610\n",
       "20009.0     9637\n",
       "20011.0     8813\n",
       "20001.0     7691\n",
       "20019.0     6857\n",
       "20016.0     6455\n",
       "20007.0     5483\n",
       "20020.0     5324\n",
       "20003.0     5225\n",
       "20010.0     4217\n",
       "20008.0     4132\n",
       "20018.0     3060\n",
       "20015.0     3003\n",
       "20032.0     2828\n",
       "20017.0     2750\n",
       "20005.0     2729\n",
       "20037.0     2563\n",
       "20024.0     2242\n",
       "20012.0     1999\n",
       "20036.0     1248\n",
       "20004.0      895\n",
       "20392.0      128\n",
       "20006.0       69\n",
       "20052.0        7\n",
       "Name: ZIPCODE, dtype: int64"
      ]
     },
     "execution_count": 220,
     "metadata": {},
     "output_type": "execute_result"
    }
   ],
   "source": [
    "df['ZIPCODE'].value_counts() "
   ]
  },
  {
   "cell_type": "code",
   "execution_count": 221,
   "metadata": {},
   "outputs": [],
   "source": [
    "zip_dummies = pd.get_dummies(df['ZIPCODE'],drop_first=True)"
   ]
  },
  {
   "cell_type": "code",
   "execution_count": 222,
   "metadata": {},
   "outputs": [],
   "source": [
    "df = pd.concat([df.drop('ZIPCODE',axis=1),zip_dummies],axis=1)"
   ]
  },
  {
   "cell_type": "code",
   "execution_count": 223,
   "metadata": {},
   "outputs": [
    {
     "data": {
      "text/plain": [
       "11     25901\n",
       "17     20987\n",
       "16     19285\n",
       "12     15835\n",
       "13      8088\n",
       "24      5156\n",
       "23      2665\n",
       "15        33\n",
       "19         8\n",
       "117        5\n",
       "116        1\n",
       "39         1\n",
       "Name: USECODE, dtype: int64"
      ]
     },
     "execution_count": 223,
     "metadata": {},
     "output_type": "execute_result"
    }
   ],
   "source": [
    "df['USECODE'].value_counts() "
   ]
  },
  {
   "cell_type": "code",
   "execution_count": 224,
   "metadata": {},
   "outputs": [],
   "source": [
    "use_dummies = pd.get_dummies(df['USECODE'],drop_first=True)"
   ]
  },
  {
   "cell_type": "code",
   "execution_count": 225,
   "metadata": {},
   "outputs": [],
   "source": [
    "df = pd.concat([df.drop('USECODE',axis=1),use_dummies],axis=1)"
   ]
  },
  {
   "cell_type": "code",
   "execution_count": 226,
   "metadata": {},
   "outputs": [
    {
     "name": "stdout",
     "output_type": "stream",
     "text": [
      "<class 'pandas.core.frame.DataFrame'>\n",
      "Int64Index: 97965 entries, 0 to 98215\n",
      "Columns: 241 entries, BATHRM to 117\n",
      "dtypes: float64(4), int64(12), uint8(225)\n",
      "memory usage: 33.7 MB\n"
     ]
    }
   ],
   "source": [
    "df.info()"
   ]
  },
  {
   "cell_type": "markdown",
   "metadata": {},
   "source": [
    "## Train Model"
   ]
  },
  {
   "cell_type": "code",
   "execution_count": 92,
   "metadata": {},
   "outputs": [],
   "source": [
    "X = df.drop('PRICE',axis=1)\n",
    "y = df['PRICE']"
   ]
  },
  {
   "cell_type": "code",
   "execution_count": 93,
   "metadata": {},
   "outputs": [],
   "source": [
    "from sklearn.model_selection import train_test_split"
   ]
  },
  {
   "cell_type": "code",
   "execution_count": 94,
   "metadata": {},
   "outputs": [],
   "source": [
    "X_train, X_test, y_train, y_test = train_test_split(X,y,test_size=0.3)"
   ]
  },
  {
   "cell_type": "code",
   "execution_count": 95,
   "metadata": {},
   "outputs": [],
   "source": [
    "from sklearn.preprocessing import MinMaxScaler"
   ]
  },
  {
   "cell_type": "code",
   "execution_count": 96,
   "metadata": {},
   "outputs": [],
   "source": [
    "scaler = MinMaxScaler()"
   ]
  },
  {
   "cell_type": "code",
   "execution_count": 97,
   "metadata": {},
   "outputs": [],
   "source": [
    "X_train= scaler.fit_transform(X_train)"
   ]
  },
  {
   "cell_type": "code",
   "execution_count": 98,
   "metadata": {},
   "outputs": [],
   "source": [
    "X_test = scaler.transform(X_test)"
   ]
  },
  {
   "cell_type": "code",
   "execution_count": 99,
   "metadata": {},
   "outputs": [],
   "source": [
    "from tensorflow.keras.models import Sequential\n",
    "from tensorflow.keras.layers import Dense, Activation\n",
    "from tensorflow.keras.optimizers import Adam\n",
    "from tensorflow.keras.callbacks import EarlyStopping\n",
    "from tensorflow.keras.layers import Dropout"
   ]
  },
  {
   "cell_type": "code",
   "execution_count": 100,
   "metadata": {},
   "outputs": [],
   "source": [
    "early_stop = EarlyStopping(monitor='val_loss', mode='min', verbose=1, patience=25)"
   ]
  },
  {
   "cell_type": "code",
   "execution_count": 114,
   "metadata": {},
   "outputs": [],
   "source": [
    "model = Sequential()\n",
    "\n",
    "model.add(Dense(241,activation='relu'))\n",
    "model.add(Dropout(0.5))\n",
    "\n",
    "model.add(Dense(241,activation='relu'))\n",
    "model.add(Dropout(0.25))\n",
    "\n",
    "model.add(Dense(241,activation='relu'))\n",
    "model.add(Dropout(0.25))\n",
    "\n",
    "model.add(Dense(241,activation='relu'))\n",
    "model.add(Dropout(0.5))\n",
    "\n",
    "model.add(Dense(1))\n",
    "\n",
    "model.compile(optimizer='adam',loss='mse')"
   ]
  },
  {
   "cell_type": "code",
   "execution_count": 115,
   "metadata": {},
   "outputs": [
    {
     "name": "stdout",
     "output_type": "stream",
     "text": [
      "Train on 68575 samples, validate on 29390 samples\n",
      "Epoch 1/300\n",
      "68575/68575 [==============================] - 3s 47us/sample - loss: 48717061168146.7422 - val_loss: 49868446833850.1250\n",
      "Epoch 2/300\n",
      "68575/68575 [==============================] - 3s 38us/sample - loss: 42506940493920.2266 - val_loss: 39121824245410.6094\n",
      "Epoch 3/300\n",
      "68575/68575 [==============================] - 3s 39us/sample - loss: 33922225938124.3906 - val_loss: 30916442295914.4414\n",
      "Epoch 4/300\n",
      "68575/68575 [==============================] - 3s 38us/sample - loss: 25714609911646.9375 - val_loss: 21386613192341.5078\n",
      "Epoch 5/300\n",
      "68575/68575 [==============================] - 3s 39us/sample - loss: 17601012780971.2422 - val_loss: 13011089902634.0195\n",
      "Epoch 6/300\n",
      "68575/68575 [==============================] - 3s 42us/sample - loss: 13146777113635.6738 - val_loss: 10517316736128.0059\n",
      "Epoch 7/300\n",
      "68575/68575 [==============================] - 3s 38us/sample - loss: 12301139016341.7812 - val_loss: 9606432474185.0977\n",
      "Epoch 8/300\n",
      "68575/68575 [==============================] - 3s 45us/sample - loss: 11130975632575.8379 - val_loss: 8116441892528.5430\n",
      "Epoch 9/300\n",
      "68575/68575 [==============================] - 3s 47us/sample - loss: 10228354348288.0781 - val_loss: 7887113265369.9697\n",
      "Epoch 10/300\n",
      "68575/68575 [==============================] - 3s 47us/sample - loss: 10487665305095.0703 - val_loss: 7019640152120.3047\n",
      "Epoch 11/300\n",
      "68575/68575 [==============================] - 3s 46us/sample - loss: 9596713140160.4473 - val_loss: 6493180560476.0518\n",
      "Epoch 12/300\n",
      "68575/68575 [==============================] - 3s 39us/sample - loss: 9226003036876.0156 - val_loss: 6105375952065.0928\n",
      "Epoch 13/300\n",
      "68575/68575 [==============================] - 3s 37us/sample - loss: 9182486031618.9160 - val_loss: 5961493526208.9893\n",
      "Epoch 14/300\n",
      "68575/68575 [==============================] - 3s 40us/sample - loss: 9138974655208.4766 - val_loss: 5427201043232.6641\n",
      "Epoch 15/300\n",
      "68575/68575 [==============================] - 3s 45us/sample - loss: 8418107693037.4541 - val_loss: 5744834171966.7852\n",
      "Epoch 16/300\n",
      "68575/68575 [==============================] - 3s 44us/sample - loss: 8123294693928.5938 - val_loss: 5041582289586.9824\n",
      "Epoch 17/300\n",
      "68575/68575 [==============================] - 3s 44us/sample - loss: 7965895929836.5869 - val_loss: 4830609911061.8281\n",
      "Epoch 18/300\n",
      "68575/68575 [==============================] - 3s 45us/sample - loss: 7823715638054.9258 - val_loss: 4444822201751.5791\n",
      "Epoch 19/300\n",
      "68575/68575 [==============================] - 3s 40us/sample - loss: 7264794999737.2646 - val_loss: 4194632270122.2456\n",
      "Epoch 20/300\n",
      "68575/68575 [==============================] - 3s 40us/sample - loss: 7332812011460.0010 - val_loss: 5442554868774.8135\n",
      "Epoch 21/300\n",
      "68575/68575 [==============================] - 3s 42us/sample - loss: 7317999056199.2764 - val_loss: 4140144217036.9219\n",
      "Epoch 22/300\n",
      "68575/68575 [==============================] - 3s 46us/sample - loss: 6902750654848.3633 - val_loss: 4010841836718.6968\n",
      "Epoch 23/300\n",
      "68575/68575 [==============================] - 3s 47us/sample - loss: 7413735685853.9502 - val_loss: 4663336751697.9824\n",
      "Epoch 24/300\n",
      "68575/68575 [==============================] - 3s 41us/sample - loss: 6712708605667.5947 - val_loss: 4890602447080.4648\n",
      "Epoch 25/300\n",
      "68575/68575 [==============================] - 3s 40us/sample - loss: 7426947728610.7510 - val_loss: 3798502187298.4409\n",
      "Epoch 26/300\n",
      "68575/68575 [==============================] - 3s 40us/sample - loss: 6702791604640.8877 - val_loss: 3326672951106.3213\n",
      "Epoch 27/300\n",
      "68575/68575 [==============================] - 3s 42us/sample - loss: 6574537596323.4102 - val_loss: 3260897128526.8818\n",
      "Epoch 28/300\n",
      "68575/68575 [==============================] - 3s 40us/sample - loss: 6211919105386.4873 - val_loss: 3207536937983.0942\n",
      "Epoch 29/300\n",
      "68575/68575 [==============================] - 3s 48us/sample - loss: 6818268381435.3447 - val_loss: 5268113837574.6543\n",
      "Epoch 30/300\n",
      "68575/68575 [==============================] - 3s 46us/sample - loss: 7295922518311.9932 - val_loss: 3029815587620.7061\n",
      "Epoch 31/300\n",
      "68575/68575 [==============================] - 3s 44us/sample - loss: 6399058612389.8711 - val_loss: 2905753063762.6621\n",
      "Epoch 32/300\n",
      "68575/68575 [==============================] - 3s 41us/sample - loss: 6656157449600.1699 - val_loss: 2864836324625.9258\n",
      "Epoch 33/300\n",
      "68575/68575 [==============================] - 3s 45us/sample - loss: 6141917627185.5879 - val_loss: 4176539865286.7373\n",
      "Epoch 34/300\n",
      "68575/68575 [==============================] - 3s 43us/sample - loss: 6072255331013.3271 - val_loss: 2691683875629.7646\n",
      "Epoch 35/300\n",
      "68575/68575 [==============================] - 3s 43us/sample - loss: 6270714579168.1377 - val_loss: 2712724102752.1284\n",
      "Epoch 36/300\n",
      "68575/68575 [==============================] - 3s 41us/sample - loss: 5509527658729.5449 - val_loss: 2912041798157.2749\n",
      "Epoch 37/300\n",
      "68575/68575 [==============================] - 3s 42us/sample - loss: 5991904830753.9453 - val_loss: 2614518614532.9126\n",
      "Epoch 38/300\n",
      "68575/68575 [==============================] - 3s 47us/sample - loss: 6141446781004.4248 - val_loss: 2664019708547.4580\n",
      "Epoch 39/300\n",
      "68575/68575 [==============================] - 3s 42us/sample - loss: 6047436526172.2910 - val_loss: 2732156625978.6045\n",
      "Epoch 40/300\n",
      "68575/68575 [==============================] - 3s 39us/sample - loss: 5327921742498.7129 - val_loss: 2439893241382.9878\n",
      "Epoch 41/300\n",
      "68575/68575 [==============================] - 3s 47us/sample - loss: 5953024307028.1562 - val_loss: 2894486939135.2686\n",
      "Epoch 42/300\n",
      "68575/68575 [==============================] - 3s 46us/sample - loss: 5968583312103.2832 - val_loss: 2604052623804.5811\n",
      "Epoch 43/300\n",
      "68575/68575 [==============================] - 3s 48us/sample - loss: 5485615343111.7871 - val_loss: 2316914357452.3818\n",
      "Epoch 44/300\n",
      "68575/68575 [==============================] - 3s 44us/sample - loss: 5016656317399.9062 - val_loss: 2616351486957.9521\n",
      "Epoch 45/300\n",
      "68575/68575 [==============================] - 3s 41us/sample - loss: 5335586275941.0713 - val_loss: 2412100923437.4336\n",
      "Epoch 46/300\n",
      "68575/68575 [==============================] - 3s 41us/sample - loss: 5526281684177.7871 - val_loss: 2200506882731.3169\n",
      "Epoch 47/300\n",
      "68575/68575 [==============================] - 3s 42us/sample - loss: 5445373504947.0010 - val_loss: 2137122877520.5542\n",
      "Epoch 48/300\n",
      "68575/68575 [==============================] - 3s 42us/sample - loss: 5600624154309.1914 - val_loss: 2194720670091.8027\n",
      "Epoch 49/300\n",
      "68575/68575 [==============================] - 3s 49us/sample - loss: 6094596253374.8008 - val_loss: 2291852655583.0396\n",
      "Epoch 50/300\n",
      "68575/68575 [==============================] - 3s 44us/sample - loss: 5307895623177.8477 - val_loss: 2236536603627.4434\n",
      "Epoch 51/300\n",
      "68575/68575 [==============================] - 3s 45us/sample - loss: 5687685903113.3887 - val_loss: 3007900680340.2866\n",
      "Epoch 52/300\n",
      "68575/68575 [==============================] - 3s 43us/sample - loss: 5051558471058.9551 - val_loss: 2913328224195.6538\n",
      "Epoch 53/300\n",
      "68575/68575 [==============================] - 3s 43us/sample - loss: 5082970776735.9717 - val_loss: 3424871651513.4976\n",
      "Epoch 54/300\n",
      "68575/68575 [==============================] - 3s 48us/sample - loss: 5048390076943.8057 - val_loss: 2190374079962.6147\n",
      "Epoch 55/300\n",
      "68575/68575 [==============================] - 3s 45us/sample - loss: 5071085335408.6025 - val_loss: 2916133008337.5205\n",
      "Epoch 56/300\n",
      "68575/68575 [==============================] - 3s 42us/sample - loss: 5199475981299.3223 - val_loss: 1988209662833.7759\n",
      "Epoch 57/300\n",
      "68575/68575 [==============================] - 3s 41us/sample - loss: 4491242045308.1152 - val_loss: 1888289700215.5945\n",
      "Epoch 58/300\n",
      "68575/68575 [==============================] - 3s 51us/sample - loss: 4940164117508.4951 - val_loss: 1909166279249.8433\n",
      "Epoch 59/300\n",
      "68575/68575 [==============================] - 3s 44us/sample - loss: 4749072394095.7217 - val_loss: 1943344741160.7476\n",
      "Epoch 60/300\n",
      "68575/68575 [==============================] - 3s 42us/sample - loss: 4589763794589.0527 - val_loss: 1897150508041.1287\n",
      "Epoch 61/300\n",
      "68575/68575 [==============================] - 3s 41us/sample - loss: 5427961650056.8828 - val_loss: 1912566849384.9260\n",
      "Epoch 62/300\n"
     ]
    },
    {
     "name": "stdout",
     "output_type": "stream",
     "text": [
      "68575/68575 [==============================] - 3s 38us/sample - loss: 5015181123461.3145 - val_loss: 3135449262005.4385\n",
      "Epoch 63/300\n",
      "68575/68575 [==============================] - 3s 38us/sample - loss: 4644936155981.7803 - val_loss: 3030569022518.4229\n",
      "Epoch 64/300\n",
      "68575/68575 [==============================] - 3s 44us/sample - loss: 4690173606826.2119 - val_loss: 2405594673058.0664\n",
      "Epoch 65/300\n",
      "68575/68575 [==============================] - 3s 42us/sample - loss: 5258745221240.4756 - val_loss: 1816485236511.6189\n",
      "Epoch 66/300\n",
      "68575/68575 [==============================] - 3s 41us/sample - loss: 4641384291321.5342 - val_loss: 3995216334688.8433\n",
      "Epoch 67/300\n",
      "68575/68575 [==============================] - 3s 42us/sample - loss: 4753799954832.9092 - val_loss: 2158422410083.9785\n",
      "Epoch 68/300\n",
      "68575/68575 [==============================] - 3s 41us/sample - loss: 4925154894771.6797 - val_loss: 1894137791344.2429\n",
      "Epoch 69/300\n",
      "68575/68575 [==============================] - 3s 46us/sample - loss: 4516862080112.9648 - val_loss: 1757990657071.3152\n",
      "Epoch 70/300\n",
      "68575/68575 [==============================] - 3s 44us/sample - loss: 4474749378063.8809 - val_loss: 1961956344146.9409\n",
      "Epoch 71/300\n",
      "68575/68575 [==============================] - 3s 41us/sample - loss: 4039191558804.3477 - val_loss: 1687033946132.0688\n",
      "Epoch 72/300\n",
      "68575/68575 [==============================] - 3s 41us/sample - loss: 4951563444860.6045 - val_loss: 1852437342252.1794\n",
      "Epoch 73/300\n",
      "68575/68575 [==============================] - 3s 41us/sample - loss: 4317980433129.8813 - val_loss: 1728546469664.8733\n",
      "Epoch 74/300\n",
      "68575/68575 [==============================] - 3s 41us/sample - loss: 4432197845244.3008 - val_loss: 2233680883859.4502\n",
      "Epoch 75/300\n",
      "68575/68575 [==============================] - 3s 41us/sample - loss: 4471096899621.7188 - val_loss: 1625958343048.4578\n",
      "Epoch 76/300\n",
      "68575/68575 [==============================] - 3s 41us/sample - loss: 4500784523372.1416 - val_loss: 1901032737899.8005\n",
      "Epoch 77/300\n",
      "68575/68575 [==============================] - 3s 42us/sample - loss: 4345795414572.9546 - val_loss: 1801077408181.6125\n",
      "Epoch 78/300\n",
      "68575/68575 [==============================] - 3s 44us/sample - loss: 4602813160564.8174 - val_loss: 1999362990366.5391\n",
      "Epoch 79/300\n",
      "68575/68575 [==============================] - 3s 41us/sample - loss: 4072168718603.1133 - val_loss: 1611217277879.3201\n",
      "Epoch 80/300\n",
      "68575/68575 [==============================] - 3s 42us/sample - loss: 4308760106956.0049 - val_loss: 2284138094689.5571\n",
      "Epoch 81/300\n",
      "68575/68575 [==============================] - 3s 41us/sample - loss: 4294244369398.8164 - val_loss: 1592284076683.5413\n",
      "Epoch 82/300\n",
      "68575/68575 [==============================] - 3s 42us/sample - loss: 5165233582882.4756 - val_loss: 1542558017289.1807\n",
      "Epoch 83/300\n",
      "68575/68575 [==============================] - 3s 43us/sample - loss: 4644628140359.9785 - val_loss: 2593861521387.6523\n",
      "Epoch 84/300\n",
      "68575/68575 [==============================] - 3s 48us/sample - loss: 4725717032332.4736 - val_loss: 1527443752293.4070\n",
      "Epoch 85/300\n",
      "68575/68575 [==============================] - 3s 44us/sample - loss: 4364037778891.1313 - val_loss: 2376647315557.7378\n",
      "Epoch 86/300\n",
      "68575/68575 [==============================] - 3s 45us/sample - loss: 3932042083500.2471 - val_loss: 1752954740527.5068\n",
      "Epoch 87/300\n",
      "68575/68575 [==============================] - 3s 42us/sample - loss: 4096675927606.0781 - val_loss: 1480508477419.0950\n",
      "Epoch 88/300\n",
      "68575/68575 [==============================] - 3s 47us/sample - loss: 4730207088999.5166 - val_loss: 2702042316933.7925\n",
      "Epoch 89/300\n",
      "68575/68575 [==============================] - 3s 46us/sample - loss: 3922400099982.8672 - val_loss: 1920688073101.6147\n",
      "Epoch 90/300\n",
      "68575/68575 [==============================] - 3s 49us/sample - loss: 4130748162857.3442 - val_loss: 1474493904404.7310\n",
      "Epoch 91/300\n",
      "68575/68575 [==============================] - 3s 48us/sample - loss: 4232898446214.6431 - val_loss: 1680894129465.6458\n",
      "Epoch 92/300\n",
      "68575/68575 [==============================] - 3s 48us/sample - loss: 4278500509150.5737 - val_loss: 1470580673235.7334\n",
      "Epoch 93/300\n",
      "68575/68575 [==============================] - 3s 44us/sample - loss: 4249837681309.7852 - val_loss: 1415324961922.0991\n",
      "Epoch 94/300\n",
      "68575/68575 [==============================] - 3s 46us/sample - loss: 4033811930572.5049 - val_loss: 1980670262630.3826\n",
      "Epoch 95/300\n",
      "68575/68575 [==============================] - 3s 46us/sample - loss: 3942448261111.7871 - val_loss: 2569801018520.3979\n",
      "Epoch 96/300\n",
      "68575/68575 [==============================] - 3s 42us/sample - loss: 3844967991828.4653 - val_loss: 2755841428014.7227\n",
      "Epoch 97/300\n",
      "68575/68575 [==============================] - 3s 43us/sample - loss: 4117520438253.6777 - val_loss: 1418450333755.9280\n",
      "Epoch 98/300\n",
      "68575/68575 [==============================] - 3s 41us/sample - loss: 4448015008026.6436 - val_loss: 1671481171495.8242\n",
      "Epoch 99/300\n",
      "68575/68575 [==============================] - 3s 41us/sample - loss: 3662241554988.5664 - val_loss: 1618069972757.4451\n",
      "Epoch 100/300\n",
      "68575/68575 [==============================] - 3s 41us/sample - loss: 3688028238467.5933 - val_loss: 1334046692991.2075\n",
      "Epoch 101/300\n",
      "68575/68575 [==============================] - 3s 43us/sample - loss: 4208610156248.3354 - val_loss: 1411380675890.1199\n",
      "Epoch 102/300\n",
      "68575/68575 [==============================] - 3s 43us/sample - loss: 4065146337319.6309 - val_loss: 2487422926994.0566\n",
      "Epoch 103/300\n",
      "68575/68575 [==============================] - 3s 42us/sample - loss: 3985032099372.2227 - val_loss: 1431560130054.6548\n",
      "Epoch 104/300\n",
      "68575/68575 [==============================] - 3s 41us/sample - loss: 4013421674848.8862 - val_loss: 1929347060690.0784\n",
      "Epoch 105/300\n",
      "68575/68575 [==============================] - 3s 41us/sample - loss: 3894042259027.3164 - val_loss: 2875111223544.9097\n",
      "Epoch 106/300\n",
      "68575/68575 [==============================] - 3s 41us/sample - loss: 3829941146888.3213 - val_loss: 2150202911958.2769\n",
      "Epoch 107/300\n",
      "68575/68575 [==============================] - 3s 45us/sample - loss: 3400858269973.1182 - val_loss: 1432071788011.4780\n",
      "Epoch 108/300\n",
      "68575/68575 [==============================] - 3s 41us/sample - loss: 3497913269815.5415 - val_loss: 1662160621134.0107\n",
      "Epoch 109/300\n",
      "68575/68575 [==============================] - 3s 41us/sample - loss: 3701433827561.6646 - val_loss: 1227255807098.0159\n",
      "Epoch 110/300\n",
      "68575/68575 [==============================] - 3s 48us/sample - loss: 3413147477727.7715 - val_loss: 1446444994155.5566\n",
      "Epoch 111/300\n",
      "68575/68575 [==============================] - 3s 51us/sample - loss: 4464441710459.4883 - val_loss: 1244152522376.9631\n",
      "Epoch 112/300\n",
      "68575/68575 [==============================] - 3s 46us/sample - loss: 3905208490858.0620 - val_loss: 1397567126913.1409\n",
      "Epoch 113/300\n",
      "68575/68575 [==============================] - 3s 41us/sample - loss: 4033224892971.6104 - val_loss: 1224995056828.6333\n",
      "Epoch 114/300\n",
      "68575/68575 [==============================] - 3s 42us/sample - loss: 3595951532634.9468 - val_loss: 1852580554169.0276\n",
      "Epoch 115/300\n",
      "68575/68575 [==============================] - 3s 41us/sample - loss: 3845533512664.5332 - val_loss: 2013438059802.7063\n",
      "Epoch 116/300\n",
      "68575/68575 [==============================] - 3s 41us/sample - loss: 3875247905524.2739 - val_loss: 1370512092682.5571\n",
      "Epoch 117/300\n",
      "68575/68575 [==============================] - 3s 41us/sample - loss: 3538497835129.4316 - val_loss: 1913766579737.6086\n",
      "Epoch 118/300\n",
      "68575/68575 [==============================] - 3s 42us/sample - loss: 3587717581907.4282 - val_loss: 1196196905651.2610\n",
      "Epoch 119/300\n",
      "68575/68575 [==============================] - 3s 41us/sample - loss: 3960176100130.5356 - val_loss: 1236415605111.3157\n",
      "Epoch 120/300\n",
      "68575/68575 [==============================] - 3s 42us/sample - loss: 3953233209970.6001 - val_loss: 1214791295268.6709\n",
      "Epoch 121/300\n",
      "68575/68575 [==============================] - 3s 46us/sample - loss: 3624570228308.8691 - val_loss: 1512130603400.5972\n",
      "Epoch 122/300\n",
      "68575/68575 [==============================] - 3s 42us/sample - loss: 3729463713906.8013 - val_loss: 1503856459694.0522\n",
      "Epoch 123/300\n"
     ]
    },
    {
     "name": "stdout",
     "output_type": "stream",
     "text": [
      "68575/68575 [==============================] - 3s 40us/sample - loss: 3677717335161.4165 - val_loss: 1259240309868.7761\n",
      "Epoch 124/300\n",
      "68575/68575 [==============================] - 3s 41us/sample - loss: 3580921777666.6807 - val_loss: 1253080079037.7136\n",
      "Epoch 125/300\n",
      "68575/68575 [==============================] - 3s 42us/sample - loss: 3236658554240.7974 - val_loss: 1336170742243.3252\n",
      "Epoch 126/300\n",
      "68575/68575 [==============================] - 3s 41us/sample - loss: 3176094574455.4868 - val_loss: 1341554835774.3145\n",
      "Epoch 127/300\n",
      "68575/68575 [==============================] - 3s 42us/sample - loss: 4086696796922.9341 - val_loss: 1143541644853.7610\n",
      "Epoch 128/300\n",
      "68575/68575 [==============================] - 3s 41us/sample - loss: 3695549409040.9893 - val_loss: 1732959640478.3733\n",
      "Epoch 129/300\n",
      "68575/68575 [==============================] - 3s 41us/sample - loss: 3570267562654.5317 - val_loss: 1558052208541.3281\n",
      "Epoch 130/300\n",
      "68575/68575 [==============================] - 3s 41us/sample - loss: 3724486962490.1064 - val_loss: 1234881141844.6655\n",
      "Epoch 131/300\n",
      "68575/68575 [==============================] - 3s 47us/sample - loss: 3558553154661.7354 - val_loss: 1327651221392.2275\n",
      "Epoch 132/300\n",
      "68575/68575 [==============================] - 3s 43us/sample - loss: 3456188947110.1470 - val_loss: 1524120695783.2625\n",
      "Epoch 133/300\n",
      "68575/68575 [==============================] - 3s 41us/sample - loss: 3627604965521.7119 - val_loss: 1207496359603.1914\n",
      "Epoch 134/300\n",
      "68575/68575 [==============================] - 3s 41us/sample - loss: 3483045512911.8838 - val_loss: 1185765301739.0601\n",
      "Epoch 135/300\n",
      "68575/68575 [==============================] - 3s 41us/sample - loss: 3533999588994.2344 - val_loss: 1103415040320.4050\n",
      "Epoch 136/300\n",
      "68575/68575 [==============================] - 3s 41us/sample - loss: 3540816180225.9863 - val_loss: 1193071689581.3857\n",
      "Epoch 137/300\n",
      "68575/68575 [==============================] - 3s 41us/sample - loss: 3600286801104.2046 - val_loss: 1208913905242.6931\n",
      "Epoch 138/300\n",
      "68575/68575 [==============================] - 3s 41us/sample - loss: 3453019470087.0220 - val_loss: 2023970722289.5405\n",
      "Epoch 139/300\n",
      "68575/68575 [==============================] - 3s 44us/sample - loss: 3322047170045.8721 - val_loss: 1079026941841.0637\n",
      "Epoch 140/300\n",
      "68575/68575 [==============================] - 3s 41us/sample - loss: 4117736244601.7485 - val_loss: 1187340596012.5105\n",
      "Epoch 141/300\n",
      "68575/68575 [==============================] - 4s 65us/sample - loss: 3546697906392.1938 - val_loss: 1149651413751.4116\n",
      "Epoch 142/300\n",
      "68575/68575 [==============================] - 4s 58us/sample - loss: 3557755950691.2344 - val_loss: 1463321212808.5623\n",
      "Epoch 143/300\n",
      "68575/68575 [==============================] - 4s 53us/sample - loss: 3603499992158.3887 - val_loss: 1447881191726.4268\n",
      "Epoch 144/300\n",
      "68575/68575 [==============================] - 4s 58us/sample - loss: 3930030569715.1919 - val_loss: 1234799921236.8745\n",
      "Epoch 145/300\n",
      "68575/68575 [==============================] - 4s 57us/sample - loss: 3466198655810.6704 - val_loss: 1335224461507.2534\n",
      "Epoch 146/300\n",
      "68575/68575 [==============================] - 3s 50us/sample - loss: 3842856650414.7930 - val_loss: 1348733473766.1475\n",
      "Epoch 147/300\n",
      "68575/68575 [==============================] - 3s 50us/sample - loss: 3425118790244.7129 - val_loss: 1304430688728.5940\n",
      "Epoch 148/300\n",
      "68575/68575 [==============================] - 3s 48us/sample - loss: 3495902188932.7988 - val_loss: 1533725887113.0327\n",
      "Epoch 149/300\n",
      "68575/68575 [==============================] - 3s 51us/sample - loss: 4264932036524.0796 - val_loss: 1122298265708.7063\n",
      "Epoch 150/300\n",
      "68575/68575 [==============================] - 4s 55us/sample - loss: 3441205347277.6025 - val_loss: 1510926963802.6580\n",
      "Epoch 151/300\n",
      "68575/68575 [==============================] - 3s 44us/sample - loss: 3654390441989.7637 - val_loss: 1089959202657.9576\n",
      "Epoch 152/300\n",
      "68575/68575 [==============================] - 3s 40us/sample - loss: 3358202329664.6055 - val_loss: 3319638953950.2729\n",
      "Epoch 153/300\n",
      "68575/68575 [==============================] - 3s 48us/sample - loss: 3411917034513.0381 - val_loss: 1320589561739.2104\n",
      "Epoch 154/300\n",
      "68575/68575 [==============================] - 3s 43us/sample - loss: 3634844353583.1421 - val_loss: 1144301640081.7954\n",
      "Epoch 155/300\n",
      "68575/68575 [==============================] - 3s 50us/sample - loss: 3545516111391.7393 - val_loss: 1741819379370.2720\n",
      "Epoch 156/300\n",
      "68575/68575 [==============================] - 3s 48us/sample - loss: 3738511560489.1504 - val_loss: 1080868992830.4189\n",
      "Epoch 157/300\n",
      "68575/68575 [==============================] - 4s 56us/sample - loss: 3895864227757.3037 - val_loss: 1096979110176.0719\n",
      "Epoch 158/300\n",
      "68575/68575 [==============================] - 4s 59us/sample - loss: 4052979946313.0610 - val_loss: 1367684974115.5037\n",
      "Epoch 159/300\n",
      "68575/68575 [==============================] - 3s 47us/sample - loss: 3758231151910.6045 - val_loss: 2231940786755.9067\n",
      "Epoch 160/300\n",
      "68575/68575 [==============================] - 3s 41us/sample - loss: 3818288576105.5059 - val_loss: 2005680332314.4448\n",
      "Epoch 161/300\n",
      "68575/68575 [==============================] - 3s 42us/sample - loss: 3369480101024.1816 - val_loss: 1491341970684.7422\n",
      "Epoch 162/300\n",
      "68575/68575 [==============================] - 3s 41us/sample - loss: 3414905073333.5127 - val_loss: 1499105207026.2549\n",
      "Epoch 163/300\n",
      "68575/68575 [==============================] - 3s 41us/sample - loss: 4228100183585.8892 - val_loss: 1310743880191.7561\n",
      "Epoch 164/300\n",
      "68575/68575 [==============================] - 3s 42us/sample - loss: 3420417613226.5786 - val_loss: 1196299323093.3362\n",
      "Epoch 00164: early stopping\n"
     ]
    },
    {
     "data": {
      "text/plain": [
       "<tensorflow.python.keras.callbacks.History at 0x127869ed0>"
      ]
     },
     "execution_count": 115,
     "metadata": {},
     "output_type": "execute_result"
    }
   ],
   "source": [
    "model.fit(x=X_train,y=y_train.values,\n",
    "          validation_data=(X_test,y_test.values),\n",
    "          batch_size=256,epochs=300,callbacks=[early_stop])"
   ]
  },
  {
   "cell_type": "markdown",
   "metadata": {},
   "source": [
    "## Evaluate Model Performance"
   ]
  },
  {
   "cell_type": "code",
   "execution_count": 116,
   "metadata": {},
   "outputs": [
    {
     "data": {
      "text/plain": [
       "<matplotlib.axes._subplots.AxesSubplot at 0x127d60750>"
      ]
     },
     "execution_count": 116,
     "metadata": {},
     "output_type": "execute_result"
    },
    {
     "data": {
      "image/png": "[encoded data removed]",
      "text/plain": [
       "<Figure size 432x288 with 1 Axes>"
      ]
     },
     "metadata": {
      "needs_background": "light"
     },
     "output_type": "display_data"
    }
   ],
   "source": [
    "losses = pd.DataFrame(model.history.history)\n",
    "losses.plot()"
   ]
  },
  {
   "cell_type": "code",
   "execution_count": 117,
   "metadata": {},
   "outputs": [],
   "source": [
    "from sklearn.metrics import mean_squared_error,mean_absolute_error,explained_variance_score"
   ]
  },
  {
   "cell_type": "code",
   "execution_count": 118,
   "metadata": {},
   "outputs": [],
   "source": [
    "predictions = model.predict(X_test)"
   ]
  },
  {
   "cell_type": "code",
   "execution_count": 119,
   "metadata": {},
   "outputs": [
    {
     "data": {
      "text/plain": [
       "1093754.4852916545"
      ]
     },
     "execution_count": 119,
     "metadata": {},
     "output_type": "execute_result"
    }
   ],
   "source": [
    "np.sqrt(mean_squared_error(y_test,predictions))"
   ]
  },
  {
   "cell_type": "code",
   "execution_count": 120,
   "metadata": {},
   "outputs": [
    {
     "data": {
      "text/plain": [
       "0.9774532247952445"
      ]
     },
     "execution_count": 120,
     "metadata": {},
     "output_type": "execute_result"
    }
   ],
   "source": [
    "explained_variance_score(y_test,predictions)"
   ]
  },
  {
   "cell_type": "code",
   "execution_count": 121,
   "metadata": {},
   "outputs": [
    {
     "data": {
      "text/plain": [
       "[<matplotlib.lines.Line2D at 0x127a1be90>]"
      ]
     },
     "execution_count": 121,
     "metadata": {},
     "output_type": "execute_result"
    },
    {
     "data": {
      "image/png": "[encoded data removed]",
      "text/plain": [
       "<Figure size 864x432 with 1 Axes>"
      ]
     },
     "metadata": {
      "needs_background": "light"
     },
     "output_type": "display_data"
    }
   ],
   "source": [
    "# Our predictions\n",
    "plt.figure(figsize=(12,6))\n",
    "plt.scatter(y_test,predictions)\n",
    "\n",
    "# Perfect predictions\n",
    "plt.plot(y_test,y_test,'r')"
   ]
  },
  {
   "cell_type": "code",
   "execution_count": 122,
   "metadata": {},
   "outputs": [],
   "source": [
    "errors = y_test.values.reshape(29390, 1) - predictions"
   ]
  },
  {
   "cell_type": "code",
   "execution_count": 123,
   "metadata": {},
   "outputs": [
    {
     "data": {
      "text/plain": [
       "<matplotlib.axes._subplots.AxesSubplot at 0x1277c4c10>"
      ]
     },
     "execution_count": 123,
     "metadata": {},
     "output_type": "execute_result"
    },
    {
     "data": {
      "image/png": "[encoded data removed]",
      "text/plain": [
       "<Figure size 432x288 with 1 Axes>"
      ]
     },
     "metadata": {
      "needs_background": "light"
     },
     "output_type": "display_data"
    }
   ],
   "source": [
    "sns.distplot(errors)"
   ]
  }
 ],
 "metadata": {
  "kernelspec": {
   "display_name": "Python 3",
   "language": "python",
   "name": "python3"
  },
  "language_info": {
   "codemirror_mode": {
    "name": "ipython",
    "version": 3
   },
   "file_extension": ".py",
   "mimetype": "text/x-python",
   "name": "python",
   "nbconvert_exporter": "python",
   "pygments_lexer": "ipython3",
   "version": "3.7.4"
  }
 },
 "nbformat": 4,
 "nbformat_minor": 2
}
